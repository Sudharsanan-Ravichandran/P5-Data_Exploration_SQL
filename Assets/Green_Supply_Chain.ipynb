{
 "cells": [
  {
   "cell_type": "code",
   "execution_count": 2,
   "id": "bab6de32-ff62-4dd0-9435-3e6dd38e26a6",
   "metadata": {},
   "outputs": [
    {
     "name": "stdin",
     "output_type": "stream",
     "text": [
      "Enter your password:  ········\n"
     ]
    }
   ],
   "source": [
    "import mysql.connector\n",
    "from getpass import getpass\n",
    "\n",
    "mydb = mysql.connector.connect(\n",
    "  host=\"localhost\",\n",
    "  user=\"root\",\n",
    "  password=getpass(\"Enter your password: \"),\n",
    "  database=\"leetcode\"\n",
    ")\n",
    "\n"
   ]
  },
  {
   "cell_type": "markdown",
   "id": "9b52a0ab-3ded-4735-b69c-a237ea85a84c",
   "metadata": {},
   "source": [
    "1. Hierarchical Material Efficiency\n",
    "Identify products where raw material usage exceeds the average of their product type, and rank them within their industry using a moving average of CO2 emissions."
   ]
  },
  {
   "cell_type": "code",
   "execution_count": 11,
   "id": "323fc1ce-f4f6-4442-bbe3-05e3b418484c",
   "metadata": {},
   "outputs": [
    {
     "name": "stdout",
     "output_type": "stream",
     "text": [
      "      ID    Product_Type  Raw_Material_Usage_kg  Moving_Avg_CO2\n",
      "0     16         Apparel             169.390636      861.245738\n",
      "1     21         Apparel             122.342333      887.493884\n",
      "2     44         Apparel             130.130215      695.092154\n",
      "3     58         Apparel             180.630315      533.164084\n",
      "4     65         Apparel             157.350247      443.304000\n",
      "..   ...             ...                    ...             ...\n",
      "500  953  Pharmaceutical             154.455066      741.284390\n",
      "501  961  Pharmaceutical             192.319562      657.310585\n",
      "502  971  Pharmaceutical             150.097845      641.873253\n",
      "503  976  Pharmaceutical             159.153143      558.100330\n",
      "504  988  Pharmaceutical             131.068281      392.425161\n",
      "\n",
      "[505 rows x 4 columns]\n"
     ]
    }
   ],
   "source": [
    "mycursor = mydb.cursor()\n",
    "\n",
    "sql = \"\"\"WITH ProductAverages AS (\n",
    "    SELECT \n",
    "        Product_Type,\n",
    "        AVG(Raw_Material_Usage_kg) AS Avg_Material_Usage\n",
    "    FROM green_supply_chain\n",
    "    GROUP BY Product_Type\n",
    ")\n",
    "SELECT \n",
    "    g.ID,\n",
    "    g.Product_Type,\n",
    "    g.Raw_Material_Usage_kg,\n",
    "    AVG(g.CO2_Emissions_kg) OVER (\n",
    "        PARTITION BY g.Product_Type \n",
    "        ORDER BY g.ID \n",
    "        ROWS BETWEEN 2 PRECEDING AND CURRENT ROW\n",
    "    ) AS Moving_Avg_CO2\n",
    "FROM green_supply_chain g\n",
    "JOIN ProductAverages pa ON g.Product_Type = pa.Product_Type\n",
    "WHERE g.Raw_Material_Usage_kg > pa.Avg_Material_Usage;\"\"\"\n",
    "\n",
    "mycursor.execute(sql)\n",
    "myresult = mycursor.fetchall()\n",
    "\n",
    "# -----\n",
    "\n",
    "temp = list()\n",
    "for i,data in enumerate(myresult):\n",
    "    # print(x)\n",
    "    temp.append(data)\n",
    "\n",
    "import pandas as pd\n",
    "columns = [desc[0] for desc in mycursor.description]\n",
    "df = pd.DataFrame(temp, columns = columns)\n",
    "print(df)\n",
    "\n",
    "# from prettytable import PrettyTable\n",
    "# table = PrettyTable()\n",
    "# table.field_names = [desc[0] for desc in mycursor.description]\n",
    "# for row in myresult:\n",
    "#     table.add_row(row)\n",
    "# print(table)"
   ]
  },
  {
   "cell_type": "markdown",
   "id": "e9bebfe6-2877-41c3-b4d1-b69d45bda251",
   "metadata": {},
   "source": [
    "2. Nested Sustainability Tiers\n",
    "Classify products into tiers (Gold/Silver/Bronze) based on renewable energy usage percentiles, then calculate the median cost for each tier."
   ]
  },
  {
   "cell_type": "code",
   "execution_count": 16,
   "id": "23e819eb-2a2c-44f4-9c42-824af564ddca",
   "metadata": {},
   "outputs": [
    {
     "name": "stdout",
     "output_type": "stream",
     "text": [
      "  Tier_Group  Median_Cost\n",
      "0       Gold  2545.893373\n",
      "1     Silver  2475.407028\n",
      "2     Bronze  2486.851680\n"
     ]
    }
   ],
   "source": [
    "mycursor = mydb.cursor()\n",
    "\n",
    "sql = \"\"\"WITH EnergyTiers AS (\n",
    "    SELECT \n",
    "        *,\n",
    "        NTILE(3) OVER (ORDER BY Renewable_Energy_pct DESC) AS Tier\n",
    "    FROM green_supply_chain\n",
    ")\n",
    "SELECT \n",
    "    CASE Tier \n",
    "        WHEN 1 THEN 'Gold' \n",
    "        WHEN 2 THEN 'Silver' \n",
    "        ELSE 'Bronze' \n",
    "    END AS Tier_Group,\n",
    "    AVG(cost_dollar) AS Median_Cost\n",
    "FROM EnergyTiers\n",
    "GROUP BY Tier;\n",
    "\"\"\"\n",
    "\n",
    "mycursor.execute(sql)\n",
    "myresult = mycursor.fetchall()\n",
    "\n",
    "# -----\n",
    "\n",
    "temp = list()\n",
    "for i,data in enumerate(myresult):\n",
    "    # print(x)\n",
    "    temp.append(data)\n",
    "\n",
    "import pandas as pd\n",
    "columns = [desc[0] for desc in mycursor.description]\n",
    "df = pd.DataFrame(temp, columns = columns)\n",
    "print(df)\n"
   ]
  },
  {
   "cell_type": "markdown",
   "id": "9d5dc67f-4dc9-432e-83ce-317d6ee3c4fc",
   "metadata": {},
   "source": [
    "3. Recursive Supply Chain Impact\n",
    "Calculate cumulative CO2 emissions for products with transport distances forming a chain (each product’s transport distance ≥ previous product’s distance)."
   ]
  },
  {
   "cell_type": "code",
   "execution_count": null,
   "id": "62a14333-8036-4eea-81fc-f43778fbfa4b",
   "metadata": {},
   "outputs": [],
   "source": [
    "mycursor = mydb.cursor()\n",
    "\n",
    "sql = \"\"\"WITH RECURSIVE EmissionChain AS (\n",
    "    SELECT \n",
    "        ID,\n",
    "        Transport_Distance_km,\n",
    "        CO2_Emissions_kg AS Cumulative_CO2\n",
    "    FROM green_supply_chain\n",
    "    UNION ALL\n",
    "    SELECT \n",
    "        g.ID,\n",
    "        g.Transport_Distance_km,\n",
    "        ec.Cumulative_CO2 + g.CO2_Emissions_kg\n",
    "    FROM green_supply_chain g\n",
    "    JOIN EmissionChain ec ON g.Transport_Distance_km >= ec.Transport_Distance_km\n",
    ")\n",
    "SELECT MAX(Cumulative_CO2) AS Max_Chain_Impact FROM EmissionChain;\n",
    "\n",
    "\"\"\"\n",
    "\n",
    "mycursor.execute(sql)\n",
    "myresult = mycursor.fetchall()\n",
    "\n",
    "# -----\n",
    "\n",
    "temp = list()\n",
    "for i,data in enumerate(myresult):\n",
    "    # print(x)\n",
    "    temp.append(data)\n",
    "\n",
    "import pandas as pd\n",
    "columns = [desc[0] for desc in mycursor.description]\n",
    "df = pd.DataFrame(temp, columns = columns)\n",
    "print(df)\n"
   ]
  },
  {
   "cell_type": "markdown",
   "id": "6ea9c9a6-9c2b-44fb-8cdc-5c6c1a79d802",
   "metadata": {},
   "source": [
    "4. Pivoted Renewable Energy Analysis\n",
    "Display renewable energy percentages across industries in a cross-tab format (columns: 0-30%, 30-60%, 60-100%)."
   ]
  },
  {
   "cell_type": "code",
   "execution_count": null,
   "id": "9ea39762-d843-416d-805a-b09469df06b0",
   "metadata": {},
   "outputs": [],
   "source": [
    "mycursor = mydb.cursor()\n",
    "\n",
    "sql = \"\"\"SELECT \n",
    "    Product_Type,\n",
    "    COUNT(CASE WHEN Renewable_Energy_Percentage <= 30 THEN 1 END) AS Low_Renewables,\n",
    "    COUNT(CASE WHEN Renewable_Energy_Percentage BETWEEN 30 AND 60 THEN 1 END) AS Medium_Renewables,\n",
    "    COUNT(CASE WHEN Renewable_Energy_Percentage > 60 THEN 1 END) AS High_Renewables\n",
    "FROM green_supply_chain\n",
    "GROUP BY Product_Type;\n",
    "\n",
    "\"\"\"\n",
    "\n",
    "mycursor.execute(sql)\n",
    "myresult = mycursor.fetchall()\n",
    "\n",
    "# -----\n",
    "\n",
    "temp = list()\n",
    "for i,data in enumerate(myresult):\n",
    "    # print(x)\n",
    "    temp.append(data)\n",
    "\n",
    "import pandas as pd\n",
    "columns = [desc[0] for desc in mycursor.description]\n",
    "df = pd.DataFrame(temp, columns = columns)\n",
    "print(df)\n"
   ]
  },
  {
   "cell_type": "markdown",
   "id": "0aa48299-365f-4860-83bb-6742040617ff",
   "metadata": {},
   "source": [
    "5. Optimized Pagination for Large Datasets\n",
    "Retrieve rows 100-110 efficiently without OFFSET for a dashboard displaying high-waste products."
   ]
  },
  {
   "cell_type": "code",
   "execution_count": null,
   "id": "20130835-f715-44f2-a442-6fc5c23f9b80",
   "metadata": {},
   "outputs": [],
   "source": [
    "mycursor = mydb.cursor()\n",
    "\n",
    "sql = \"\"\"SELECT *\n",
    "FROM green_supply_chain\n",
    "WHERE Waste_Generated_kg > (SELECT AVG(Waste_Generated_kg) FROM green_supply_chain)\n",
    "AND ID > (SELECT ID FROM green_supply_chain ORDER BY ID LIMIT 1 OFFSET 99)\n",
    "ORDER BY ID\n",
    "LIMIT 10;\n",
    "\n",
    "\"\"\"\n",
    "\n",
    "mycursor.execute(sql)\n",
    "myresult = mycursor.fetchall()\n",
    "\n",
    "# -----\n",
    "\n",
    "temp = list()\n",
    "for i,data in enumerate(myresult):\n",
    "    # print(x)\n",
    "    temp.append(data)\n",
    "\n",
    "import pandas as pd\n",
    "columns = [desc[0] for desc in mycursor.description]\n",
    "df = pd.DataFrame(temp, columns = columns)\n",
    "print(df)\n"
   ]
  },
  {
   "cell_type": "markdown",
   "id": "9946a5a9-5895-42f4-9b21-47a4c9f5a24b",
   "metadata": {},
   "source": [
    "6. Temporal Sustainability Trends\n",
    "Compare quarterly average sustainability scores using generated dates (if no date column, simulate quarters using ID ranges)."
   ]
  },
  {
   "cell_type": "code",
   "execution_count": null,
   "id": "bce6c456-8a45-4d6d-bdf4-576c5ea368a8",
   "metadata": {},
   "outputs": [],
   "source": [
    "mycursor = mydb.cursor()\n",
    "\n",
    "sql = \"\"\"WITH SimulatedQuarters AS (\n",
    "    SELECT *,\n",
    "        CASE \n",
    "            WHEN ID % 4 = 0 THEN 'Q4' \n",
    "            WHEN ID % 3 = 0 THEN 'Q3' \n",
    "            WHEN ID % 2 = 0 THEN 'Q2' \n",
    "            ELSE 'Q1' \n",
    "        END AS Quarter\n",
    "    FROM green_supply_chain\n",
    ")\n",
    "SELECT \n",
    "    Quarter,\n",
    "    AVG(Sustainability_Score) AS Avg_Score,\n",
    "    LAG(AVG(Sustainability_Score)) OVER (ORDER BY MIN(ID)) AS Prev_Quarter_Score\n",
    "FROM SimulatedQuarters\n",
    "GROUP BY Quarter;\n",
    "\n",
    "\n",
    "\"\"\"\n",
    "\n",
    "mycursor.execute(sql)\n",
    "myresult = mycursor.fetchall()\n",
    "\n",
    "# -----\n",
    "\n",
    "temp = list()\n",
    "for i,data in enumerate(myresult):\n",
    "    # print(x)\n",
    "    temp.append(data)\n",
    "\n",
    "import pandas as pd\n",
    "columns = [desc[0] for desc in mycursor.description]\n",
    "df = pd.DataFrame(temp, columns = columns)\n",
    "print(df)\n"
   ]
  },
  {
   "cell_type": "markdown",
   "id": "d8f5804a-de5c-40bb-8e1e-8f80346a7ca8",
   "metadata": {},
   "source": [
    "7. Anti-Join for Anomaly Detection\n",
    "Find products with below-average sustainability scores but above-average renewable energy usage."
   ]
  },
  {
   "cell_type": "code",
   "execution_count": null,
   "id": "2d263150-0014-4412-84f0-8bc3cdd4e2ae",
   "metadata": {},
   "outputs": [],
   "source": [
    "mycursor = mydb.cursor()\n",
    "\n",
    "sql = \"\"\"SELECT *\n",
    "FROM green_supply_chain g\n",
    "WHERE g.Sustainability_Score < (SELECT AVG(Sustainability_Score) FROM green_supply_chain)\n",
    "AND NOT EXISTS (\n",
    "    SELECT 1\n",
    "    FROM green_supply_chain \n",
    "    WHERE Renewable_Energy_Percentage <= (SELECT AVG(Renewable_Energy_Percentage) FROM green_supply_chain)\n",
    "    AND ID = g.ID\n",
    ");\n",
    "\n",
    "\n",
    "\"\"\"\n",
    "\n",
    "mycursor.execute(sql)\n",
    "myresult = mycursor.fetchall()\n",
    "\n",
    "# -----\n",
    "\n",
    "temp = list()\n",
    "for i,data in enumerate(myresult):\n",
    "    # print(x)\n",
    "    temp.append(data)\n",
    "\n",
    "import pandas as pd\n",
    "columns = [desc[0] for desc in mycursor.description]\n",
    "df = pd.DataFrame(temp, columns = columns)\n",
    "print(df)\n"
   ]
  },
  {
   "cell_type": "markdown",
   "id": "6eb9cca8-e944-4773-aa2d-8f166d0b6672",
   "metadata": {},
   "source": [
    "8. Dynamic Threshold Optimization\n",
    "Create a function to calculate energy efficiency benchmarks that adjust based on product type."
   ]
  },
  {
   "cell_type": "code",
   "execution_count": null,
   "id": "afcf398d-da6f-447c-8324-6b83ecb3567d",
   "metadata": {},
   "outputs": [],
   "source": [
    "mycursor = mydb.cursor()\n",
    "\n",
    "sql = \"\"\"DELIMITER //\n",
    "CREATE FUNCTION GetEnergyBenchmark(product_type VARCHAR(50)) \n",
    "RETURNS DECIMAL(10,2)\n",
    "DETERMINISTIC\n",
    "BEGIN\n",
    "    DECLARE benchmark DECIMAL(10,2);\n",
    "    SELECT AVG(Energy_Consumption_kWh) * 0.85 INTO benchmark\n",
    "    FROM green_supply_chain\n",
    "    WHERE Product_Type = product_type;\n",
    "    RETURN benchmark;\n",
    "END //\n",
    "DELIMITER ;\n",
    "\n",
    "SELECT ID, Energy_Consumption_kWh, GetEnergyBenchmark(Product_Type) AS Benchmark\n",
    "FROM green_supply_chain;\n",
    "\n",
    "\n",
    "\"\"\"\n",
    "\n",
    "mycursor.execute(sql)\n",
    "myresult = mycursor.fetchall()\n",
    "\n",
    "# -----\n",
    "\n",
    "temp = list()\n",
    "for i,data in enumerate(myresult):\n",
    "    # print(x)\n",
    "    temp.append(data)\n",
    "\n",
    "import pandas as pd\n",
    "columns = [desc[0] for desc in mycursor.description]\n",
    "df = pd.DataFrame(temp, columns = columns)\n",
    "print(df)\n"
   ]
  },
  {
   "cell_type": "markdown",
   "id": "da48a3e3-10f3-449f-aa8f-5cabd1e7fe06",
   "metadata": {},
   "source": [
    "9. Materialized View for Frequent Aggregates\n",
    "Precompute and refresh daily stats for high-traffic sustainability dashboards."
   ]
  },
  {
   "cell_type": "code",
   "execution_count": null,
   "id": "ae503884-a4f2-4d3b-a1e3-68145620bb85",
   "metadata": {},
   "outputs": [],
   "source": [
    "mycursor = mydb.cursor()\n",
    "\n",
    "sql = \"\"\"CREATE MATERIALIZED VIEW DailySustainability AS\n",
    "SELECT \n",
    "    Product_Type,\n",
    "    COUNT(*) AS Product_Count,\n",
    "    AVG(CO2_Emissions_kg) AS Avg_CO2,\n",
    "    SUM(Renewable_Energy_Percentage) AS Total_Renewables\n",
    "FROM green_supply_chain\n",
    "GROUP BY Product_Type;\n",
    "\n",
    "\n",
    "\"\"\"\n",
    "\n",
    "mycursor.execute(sql)\n",
    "myresult = mycursor.fetchall()\n",
    "\n",
    "# -----\n",
    "\n",
    "temp = list()\n",
    "for i,data in enumerate(myresult):\n",
    "    # print(x)\n",
    "    temp.append(data)\n",
    "\n",
    "import pandas as pd\n",
    "columns = [desc[0] for desc in mycursor.description]\n",
    "df = pd.DataFrame(temp, columns = columns)\n",
    "print(df)\n"
   ]
  },
  {
   "cell_type": "markdown",
   "id": "06c94f7e-0e9d-43bb-8044-b35c14b73ab9",
   "metadata": {},
   "source": [
    "10. Multi-Criteria Indexing Challenge\n",
    "Optimize this slow-running query without changing its logic:"
   ]
  },
  {
   "cell_type": "code",
   "execution_count": null,
   "id": "5327b9c2-d6cd-48fc-abac-6ac8fb0e3262",
   "metadata": {},
   "outputs": [],
   "source": [
    "mycursor = mydb.cursor()\n",
    "\n",
    "sql = \"\"\"SELECT *\n",
    "FROM green_supply_chain\n",
    "WHERE Product_Type = 'Pharmaceutical'\n",
    "AND (Renewable_Energy_Percentage > 40 OR Cost_USD < 5000)\n",
    "ORDER BY Sustainability_Score DESC;\n",
    "\n",
    "\"\"\"\n",
    "\n",
    "mycursor.execute(sql)\n",
    "myresult = mycursor.fetchall()\n",
    "\n",
    "# -----\n",
    "\n",
    "temp = list()\n",
    "for i,data in enumerate(myresult):\n",
    "    # print(x)\n",
    "    temp.append(data)\n",
    "\n",
    "import pandas as pd\n",
    "columns = [desc[0] for desc in mycursor.description]\n",
    "df = pd.DataFrame(temp, columns = columns)\n",
    "print(df)\n"
   ]
  },
  {
   "cell_type": "code",
   "execution_count": null,
   "id": "2181904f-ce75-4019-982b-d53116756245",
   "metadata": {},
   "outputs": [],
   "source": []
  }
 ],
 "metadata": {
  "kernelspec": {
   "display_name": "Python 3 (ipykernel)",
   "language": "python",
   "name": "python3"
  },
  "language_info": {
   "codemirror_mode": {
    "name": "ipython",
    "version": 3
   },
   "file_extension": ".py",
   "mimetype": "text/x-python",
   "name": "python",
   "nbconvert_exporter": "python",
   "pygments_lexer": "ipython3",
   "version": "3.12.7"
  }
 },
 "nbformat": 4,
 "nbformat_minor": 5
}
