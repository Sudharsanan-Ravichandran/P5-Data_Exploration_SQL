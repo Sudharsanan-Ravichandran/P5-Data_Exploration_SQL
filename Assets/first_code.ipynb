{
 "cells": [
  {
   "cell_type": "code",
   "execution_count": 14,
   "id": "bab6de32-ff62-4dd0-9435-3e6dd38e26a6",
   "metadata": {},
   "outputs": [
    {
     "name": "stdin",
     "output_type": "stream",
     "text": [
      "Enter your password:  ········\n"
     ]
    }
   ],
   "source": [
    "import mysql.connector\n",
    "from getpass import getpass\n",
    "\n",
    "mydb = mysql.connector.connect(\n",
    "  host=\"localhost\",\n",
    "  user=\"root\",\n",
    "  password=getpass(\"Enter your password: \"),\n",
    "  database=\"leetcode\"\n",
    ")\n",
    "\n"
   ]
  },
  {
   "cell_type": "code",
   "execution_count": 19,
   "id": "02285fed-5527-432f-94dc-b6782dd9f4d6",
   "metadata": {},
   "outputs": [
    {
     "name": "stdout",
     "output_type": "stream",
     "text": [
      "   ID         Name\n",
      "0   2       Rachel\n",
      "1   3  Christopher\n"
     ]
    }
   ],
   "source": [
    "mycursor = mydb.cursor()\n",
    "\n",
    "sql = \"\"\"SELECT s.roll_number, s.name\n",
    "\n",
    "        FROM student_information s\n",
    "\t    LEFT JOIN examination_marks e\n",
    "        ON s.roll_number = e.roll_number\n",
    "\n",
    "        WHERE (e.subject_one + e.subject_two + e.subject_three) < 100\"\"\"\n",
    "\n",
    "mycursor.execute(sql)\n",
    "\n",
    "myresult = mycursor.fetchall()\n",
    "\n",
    "temp = list()\n",
    "for x in myresult:\n",
    "    # print(x)\n",
    "    temp.append(x)\n",
    "\n",
    "import pandas as pd\n",
    "columns = [\"ID\", \"Name\"]\n",
    "df = pd.DataFrame(temp, columns = columns)\n",
    "print(df)"
   ]
  },
  {
   "cell_type": "code",
   "execution_count": 22,
   "id": "b4bd9238-6e67-4063-8e18-1a66a3a74443",
   "metadata": {},
   "outputs": [
    {
     "name": "stdout",
     "output_type": "stream",
     "text": [
      "   ID         Name\n",
      "0   2       Rachel\n",
      "1   3  Christopher\n"
     ]
    }
   ],
   "source": [
    "mycursor = mydb.cursor()\n",
    "\n",
    "sql = \"\"\"SELECT s.roll_number, s.name\n",
    "\n",
    "        FROM student_information s\n",
    "\t    LEFT JOIN examination_marks e\n",
    "        ON s.roll_number = e.roll_number\n",
    "\n",
    "        WHERE (e.subject_one + e.subject_two + e.subject_three) < 100\"\"\"\n",
    "\n",
    "mycursor.execute(sql)\n",
    "\n",
    "myresult = mycursor.fetchall()\n",
    "\n",
    "temp = list()\n",
    "for i,data in enumerate(myresult):\n",
    "    # print(x)\n",
    "    temp.append(data)\n",
    "\n",
    "import pandas as pd\n",
    "columns = [\"ID\", \"Name\"]\n",
    "df = pd.DataFrame(temp, columns = columns)\n",
    "print(df)"
   ]
  },
  {
   "cell_type": "code",
   "execution_count": null,
   "id": "5cf0b31f-8fb2-49d4-b5ff-b15c2f023c87",
   "metadata": {},
   "outputs": [],
   "source": []
  }
 ],
 "metadata": {
  "kernelspec": {
   "display_name": "Python 3 (ipykernel)",
   "language": "python",
   "name": "python3"
  },
  "language_info": {
   "codemirror_mode": {
    "name": "ipython",
    "version": 3
   },
   "file_extension": ".py",
   "mimetype": "text/x-python",
   "name": "python",
   "nbconvert_exporter": "python",
   "pygments_lexer": "ipython3",
   "version": "3.12.7"
  }
 },
 "nbformat": 4,
 "nbformat_minor": 5
}
